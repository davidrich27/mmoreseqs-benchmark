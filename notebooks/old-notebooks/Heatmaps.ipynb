{
 "cells": [
  {
   "cell_type": "markdown",
   "metadata": {},
   "source": [
    "## Forward-Backward Pruner"
   ]
  },
  {
   "cell_type": "markdown",
   "metadata": {},
   "source": [
    "### Heatmaps"
   ]
  },
  {
   "cell_type": "code",
   "execution_count": 2,
   "metadata": {},
   "outputs": [],
   "source": [
    "#imports\n",
    "from __future__ import print_function\n",
    "import sys\n",
    "import os\n",
    "import psutil\n",
    "import math\n",
    "import numpy as np\n",
    "import pandas as pd\n",
    "import cv2 as cv\n",
    "from PIL import Image\n",
    "import matplotlib\n",
    "import matplotlib.pyplot as plt\n",
    "import matplotlib.patches as patches\n",
    "import statsmodels.api as sm\n",
    "import statistics as stats\n",
    "\n",
    "matplotlib.rcParams['figure.dpi'] = 300\n",
    "pd.set_option('display.max_columns', None)  "
   ]
  },
  {
   "cell_type": "code",
   "execution_count": 3,
   "metadata": {},
   "outputs": [],
   "source": [
    "# index filepaths\n",
    "target_index_fname = \"/home/devreckas/Data/profmark-benchmark/temp/cloud/pmark.hmm.idx\"\n",
    "query_index_fname = \"/home/devreckas/Data/profmark-benchmark/temp/cloud/pmark.fa.idx\""
   ]
  },
  {
   "cell_type": "code",
   "execution_count": 4,
   "metadata": {},
   "outputs": [],
   "source": [
    "# data filepaths\n",
    "hmmer_generic_fname = \"/home/devreckas/Data/profmark-benchmark/results/hmmer-test/hmmer-test-generic.7090.txt.tmp\"\n",
    "mmseqs_plus_fname = \"/home/devreckas/Data/profmark-benchmark/results/cloud/final_03/final.result.16.mym8\""
   ]
  },
  {
   "cell_type": "code",
   "execution_count": null,
   "metadata": {},
   "outputs": [],
   "source": []
  }
 ],
 "metadata": {
  "kernelspec": {
   "display_name": "Python 3",
   "language": "python",
   "name": "python3"
  },
  "language_info": {
   "codemirror_mode": {
    "name": "ipython",
    "version": 3
   },
   "file_extension": ".py",
   "mimetype": "text/x-python",
   "name": "python",
   "nbconvert_exporter": "python",
   "pygments_lexer": "ipython3",
   "version": "3.8.5"
  }
 },
 "nbformat": 4,
 "nbformat_minor": 4
}
